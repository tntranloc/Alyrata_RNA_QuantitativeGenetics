{
 "cells": [
  {
   "cell_type": "code",
   "execution_count": 1,
   "id": "9b073eab",
   "metadata": {},
   "outputs": [
    {
     "name": "stdout",
     "output_type": "stream",
     "text": [
      "Collecting blabel\n",
      "  Downloading blabel-0.1.6-py3-none-any.whl (8.4 kB)\n",
      "Collecting weasyprint\n",
      "  Downloading weasyprint-57.1-py3-none-any.whl (262 kB)\n",
      "\u001b[2K     \u001b[38;2;114;156;31m━━━━━━━━━━━━━━━━━━━━━━━━━━━━━━━━━━━━━━━\u001b[0m \u001b[32m262.1/262.1 kB\u001b[0m \u001b[31m5.2 MB/s\u001b[0m eta \u001b[36m0:00:00\u001b[0m[31m4.8 MB/s\u001b[0m eta \u001b[36m0:00:01\u001b[0m\n",
      "\u001b[?25hRequirement already satisfied: jinja2 in ./environment/lib/python3.10/site-packages (from blabel) (3.1.2)\n",
      "Collecting pillow\n",
      "  Downloading Pillow-9.3.0-cp310-cp310-manylinux_2_28_x86_64.whl (3.3 MB)\n",
      "\u001b[2K     \u001b[38;2;114;156;31m━━━━━━━━━━━━━━━━━━━━━━━━━━━━━━━━━━━━━━━━\u001b[0m \u001b[32m3.3/3.3 MB\u001b[0m \u001b[31m19.9 MB/s\u001b[0m eta \u001b[36m0:00:00\u001b[0mm eta \u001b[36m0:00:01\u001b[0m0:01\u001b[0m:01\u001b[0m\n",
      "\u001b[?25hCollecting pystrich\n",
      "  Downloading pyStrich-0.8.tar.gz (981 kB)\n",
      "\u001b[2K     \u001b[38;2;114;156;31m━━━━━━━━━━━━━━━━━━━━━━━━━━━━━━━━━━━━━━\u001b[0m \u001b[32m981.2/981.2 kB\u001b[0m \u001b[31m36.4 MB/s\u001b[0m eta \u001b[36m0:00:00\u001b[0m\n",
      "\u001b[?25h  Preparing metadata (setup.py) ... \u001b[?25ldone\n",
      "\u001b[?25hCollecting qrcode\n",
      "  Downloading qrcode-7.3.1.tar.gz (43 kB)\n",
      "\u001b[2K     \u001b[38;2;114;156;31m━━━━━━━━━━━━━━━━━━━━━━━━━━━━━━━━━━━━━━━━\u001b[0m \u001b[32m43.5/43.5 kB\u001b[0m \u001b[31m3.9 MB/s\u001b[0m eta \u001b[36m0:00:00\u001b[0m\n",
      "\u001b[?25h  Preparing metadata (setup.py) ... \u001b[?25ldone\n",
      "\u001b[?25hCollecting python-barcode\n",
      "  Downloading python_barcode-0.14.0-py3-none-any.whl (212 kB)\n",
      "\u001b[2K     \u001b[38;2;114;156;31m━━━━━━━━━━━━━━━━━━━━━━━━━━━━━━━━━━━━━━\u001b[0m \u001b[32m212.9/212.9 kB\u001b[0m \u001b[31m22.7 MB/s\u001b[0m eta \u001b[36m0:00:00\u001b[0m\n",
      "\u001b[?25hRequirement already satisfied: MarkupSafe>=2.0 in ./environment/lib/python3.10/site-packages (from jinja2->blabel) (2.1.1)\n",
      "Collecting pydyf>=0.5.0\n",
      "  Downloading pydyf-0.5.0-py3-none-any.whl (6.8 kB)\n",
      "Collecting cssselect2>=0.1\n",
      "  Downloading cssselect2-0.7.0-py3-none-any.whl (15 kB)\n",
      "Collecting html5lib>=1.1\n",
      "  Downloading html5lib-1.1-py2.py3-none-any.whl (112 kB)\n",
      "\u001b[2K     \u001b[38;2;114;156;31m━━━━━━━━━━━━━━━━━━━━━━━━━━━━━━━━━━━━━━\u001b[0m \u001b[32m112.2/112.2 kB\u001b[0m \u001b[31m12.8 MB/s\u001b[0m eta \u001b[36m0:00:00\u001b[0m\n",
      "\u001b[?25hCollecting Pyphen>=0.9.1\n",
      "  Downloading pyphen-0.13.2-py3-none-any.whl (2.0 MB)\n",
      "\u001b[2K     \u001b[38;2;114;156;31m━━━━━━━━━━━━━━━━━━━━━━━━━━━━━━━━━━━━━━━━\u001b[0m \u001b[32m2.0/2.0 MB\u001b[0m \u001b[31m43.8 MB/s\u001b[0m eta \u001b[36m0:00:00\u001b[0mm eta \u001b[36m0:00:01\u001b[0m\n",
      "\u001b[?25hCollecting fonttools[woff]>=4.0.0\n",
      "  Downloading fonttools-4.38.0-py3-none-any.whl (965 kB)\n",
      "\u001b[2K     \u001b[38;2;114;156;31m━━━━━━━━━━━━━━━━━━━━━━━━━━━━━━━━━━━━━━\u001b[0m \u001b[32m965.4/965.4 kB\u001b[0m \u001b[31m50.7 MB/s\u001b[0m eta \u001b[36m0:00:00\u001b[0m\n",
      "\u001b[?25hRequirement already satisfied: tinycss2>=1.0.0 in ./environment/lib/python3.10/site-packages (from weasyprint->blabel) (1.2.1)\n",
      "Requirement already satisfied: cffi>=0.6 in ./environment/lib/python3.10/site-packages (from weasyprint->blabel) (1.15.1)\n",
      "Requirement already satisfied: pycparser in ./environment/lib/python3.10/site-packages (from cffi>=0.6->weasyprint->blabel) (2.21)\n",
      "Requirement already satisfied: webencodings in ./environment/lib/python3.10/site-packages (from cssselect2>=0.1->weasyprint->blabel) (0.5.1)\n",
      "Collecting zopfli>=0.1.4\n",
      "  Downloading zopfli-0.2.2-cp310-cp310-manylinux_2_12_x86_64.manylinux2010_x86_64.whl (848 kB)\n",
      "\u001b[2K     \u001b[38;2;114;156;31m━━━━━━━━━━━━━━━━━━━━━━━━━━━━━━━━━━━━━━\u001b[0m \u001b[32m848.9/848.9 kB\u001b[0m \u001b[31m47.0 MB/s\u001b[0m eta \u001b[36m0:00:00\u001b[0m\n",
      "\u001b[?25hCollecting brotli>=1.0.1\n",
      "  Downloading Brotli-1.0.9-cp310-cp310-manylinux_2_5_x86_64.manylinux1_x86_64.manylinux_2_12_x86_64.manylinux2010_x86_64.whl (2.7 MB)\n",
      "\u001b[2K     \u001b[38;2;114;156;31m━━━━━━━━━━━━━━━━━━━━━━━━━━━━━━━━━━━━━━━━\u001b[0m \u001b[32m2.7/2.7 MB\u001b[0m \u001b[31m71.4 MB/s\u001b[0m eta \u001b[36m0:00:00\u001b[0m0m eta \u001b[36m0:00:01\u001b[0m\n",
      "\u001b[?25hRequirement already satisfied: six>=1.9 in ./environment/lib/python3.10/site-packages (from html5lib>=1.1->weasyprint->blabel) (1.16.0)\n",
      "Building wheels for collected packages: pystrich, qrcode\n",
      "  Building wheel for pystrich (setup.py) ... \u001b[?25ldone\n",
      "\u001b[?25h  Created wheel for pystrich: filename=pyStrich-0.8-py3-none-any.whl size=1107377 sha256=28ec511435c0a75285777e8d00aba61e3aae3f2bfae87df09f350f6725132551\n",
      "  Stored in directory: /home/alle/.cache/pip/wheels/91/2a/14/ca4e26567441111d7a7b57d18d6029819882e9f216a8f6ead0\n",
      "  Building wheel for qrcode (setup.py) ... \u001b[?25ldone\n",
      "\u001b[?25h  Created wheel for qrcode: filename=qrcode-7.3.1-py3-none-any.whl size=40386 sha256=1689af7318e149264826666ce7282dd219328967643af7e445562382e21a1f1f\n",
      "  Stored in directory: /home/alle/.cache/pip/wheels/22/55/8f/67bcedfbd469c9a86c74b0f6bf73c814a59cea47fdc3289c02\n",
      "Successfully built pystrich qrcode\n",
      "Installing collected packages: python-barcode, brotli, zopfli, qrcode, Pyphen, pydyf, pillow, html5lib, fonttools, pystrich, cssselect2, weasyprint, blabel\n",
      "Successfully installed Pyphen-0.13.2 blabel-0.1.6 brotli-1.0.9 cssselect2-0.7.0 fonttools-4.38.0 html5lib-1.1 pillow-9.3.0 pydyf-0.5.0 pystrich-0.8 python-barcode-0.14.0 qrcode-7.3.1 weasyprint-57.1 zopfli-0.2.2\n",
      "\n",
      "\u001b[1m[\u001b[0m\u001b[34;49mnotice\u001b[0m\u001b[1;39;49m]\u001b[0m\u001b[39;49m A new release of pip available: \u001b[0m\u001b[31;49m22.3\u001b[0m\u001b[39;49m -> \u001b[0m\u001b[32;49m22.3.1\u001b[0m\n",
      "\u001b[1m[\u001b[0m\u001b[34;49mnotice\u001b[0m\u001b[1;39;49m]\u001b[0m\u001b[39;49m To update, run: \u001b[0m\u001b[32;49mpip install --upgrade pip\u001b[0m\n",
      "Note: you may need to restart the kernel to use updated packages.\n"
     ]
    }
   ],
   "source": [
    "pip install blabel\n"
   ]
  },
  {
   "cell_type": "code",
   "execution_count": 2,
   "id": "53710d6b",
   "metadata": {},
   "outputs": [],
   "source": [
    "import blabel"
   ]
  },
  {
   "cell_type": "code",
   "execution_count": 3,
   "id": "6943a939",
   "metadata": {
    "scrolled": true
   },
   "outputs": [
    {
     "name": "stdout",
     "output_type": "stream",
     "text": [
      "Requirement already satisfied: pip in ./environment/lib/python3.10/site-packages (22.3)\n",
      "Collecting pip\n",
      "  Downloading pip-22.3.1-py3-none-any.whl (2.1 MB)\n",
      "\u001b[2K     \u001b[38;2;114;156;31m━━━━━━━━━━━━━━━━━━━━━━━━━━━━━━━━━━━━━━━━\u001b[0m \u001b[32m2.1/2.1 MB\u001b[0m \u001b[31m14.8 MB/s\u001b[0m eta \u001b[36m0:00:00\u001b[0m MB/s\u001b[0m eta \u001b[36m0:00:01\u001b[0m:01\u001b[0m\n",
      "\u001b[?25hInstalling collected packages: pip\n",
      "  Attempting uninstall: pip\n",
      "    Found existing installation: pip 22.3\n",
      "    Uninstalling pip-22.3:\n",
      "      Successfully uninstalled pip-22.3\n",
      "Successfully installed pip-22.3.1\n",
      "Note: you may need to restart the kernel to use updated packages.\n"
     ]
    }
   ],
   "source": [
    "pip install --upgrade pip"
   ]
  },
  {
   "cell_type": "code",
   "execution_count": 8,
   "id": "08a4da9e",
   "metadata": {},
   "outputs": [
    {
     "name": "stdout",
     "output_type": "stream",
     "text": [
      "Collecting click\n",
      "  Downloading click-8.1.3-py3-none-any.whl (96 kB)\n",
      "\u001b[2K     \u001b[38;2;114;156;31m━━━━━━━━━━━━━━━━━━━━━━━━━━━━━━━━━━━━━━━━\u001b[0m \u001b[32m96.6/96.6 kB\u001b[0m \u001b[31m2.7 MB/s\u001b[0m eta \u001b[36m0:00:00\u001b[0m\n",
      "\u001b[?25hInstalling collected packages: click\n",
      "Successfully installed click-8.1.3\n",
      "Note: you may need to restart the kernel to use updated packages.\n"
     ]
    }
   ],
   "source": [
    "pip install click"
   ]
  },
  {
   "cell_type": "code",
   "execution_count": 9,
   "id": "1a540784",
   "metadata": {},
   "outputs": [],
   "source": [
    "import os \n",
    "import pandas as pd\n",
    "import click\n",
    "import blabel\n",
    "from blabel import LabelWriter"
   ]
  },
  {
   "cell_type": "code",
   "execution_count": 10,
   "id": "14af1388",
   "metadata": {
    "scrolled": true
   },
   "outputs": [
    {
     "data": {
      "text/plain": [
       "'/home/alle/jupyter'"
      ]
     },
     "execution_count": 10,
     "metadata": {},
     "output_type": "execute_result"
    }
   ],
   "source": [
    "os.getcwd()"
   ]
  },
  {
   "cell_type": "code",
   "execution_count": 32,
   "id": "49f15d4f",
   "metadata": {},
   "outputs": [],
   "source": [
    "mytemplate= open(\"mytemplate.html\", \"w\")"
   ]
  },
  {
   "cell_type": "code",
   "execution_count": 33,
   "id": "673efaa5",
   "metadata": {},
   "outputs": [],
   "source": [
    "mytemplate.write('''\n",
    "<span class = 'label'>\n",
    "    ID: {{ sample_id }} <br/>\n",
    "    Genotype: {{ genotype }} <br/>\n",
    "</span>\n",
    "''')\n",
    "# Saving the data into the HTML file\n",
    "mytemplate.close()"
   ]
  },
  {
   "cell_type": "code",
   "execution_count": 22,
   "id": "40e34f2d",
   "metadata": {},
   "outputs": [
    {
     "name": "stdout",
     "output_type": "stream",
     "text": [
      "Collecting cssutils\n",
      "  Downloading cssutils-2.6.0-py3-none-any.whl (399 kB)\n",
      "\u001b[2K     \u001b[38;2;114;156;31m━━━━━━━━━━━━━━━━━━━━━━━━━━━━━━━━━━━━━━━\u001b[0m \u001b[32m399.7/399.7 kB\u001b[0m \u001b[31m6.1 MB/s\u001b[0m eta \u001b[36m0:00:00\u001b[0m[31m7.5 MB/s\u001b[0m eta \u001b[36m0:00:01\u001b[0m\n",
      "\u001b[?25hInstalling collected packages: cssutils\n",
      "Successfully installed cssutils-2.6.0\n",
      "Note: you may need to restart the kernel to use updated packages.\n"
     ]
    }
   ],
   "source": [
    "pip install cssutils"
   ]
  },
  {
   "cell_type": "code",
   "execution_count": 23,
   "id": "870cca0a",
   "metadata": {},
   "outputs": [],
   "source": [
    "import cssutils"
   ]
  },
  {
   "cell_type": "code",
   "execution_count": 71,
   "id": "db4ed31f",
   "metadata": {},
   "outputs": [],
   "source": [
    "mystyle1 = open(\"mystyle1.css\", \"w\")"
   ]
  },
  {
   "cell_type": "code",
   "execution_count": 72,
   "id": "224cfecd",
   "metadata": {},
   "outputs": [],
   "source": [
    "mystyle1.write('''\n",
    "@page {\n",
    "    width: 135mm;\n",
    "    height: 17.5mm;\n",
    "    padding: 0.5mm;\n",
    "}\n",
    "\n",
    ".label {\n",
    "    font-family: Times New Roman;\n",
    "    font-weight: bold;\n",
    "    vertical-align: middle;\n",
    "    horizontal-align: left;\n",
    "    display: inline-block;\n",
    "    font-size: 7px;\n",
    "}\n",
    "''')\n",
    "mystyle1.close()"
   ]
  },
  {
   "cell_type": "code",
   "execution_count": 27,
   "id": "83479d4f",
   "metadata": {},
   "outputs": [],
   "source": [
    "mylabel = pd.read_csv('labels.csv')"
   ]
  },
  {
   "cell_type": "code",
   "execution_count": 28,
   "id": "6219c8c1",
   "metadata": {
    "scrolled": true
   },
   "outputs": [
    {
     "data": {
      "text/html": [
       "<div>\n",
       "<style scoped>\n",
       "    .dataframe tbody tr th:only-of-type {\n",
       "        vertical-align: middle;\n",
       "    }\n",
       "\n",
       "    .dataframe tbody tr th {\n",
       "        vertical-align: top;\n",
       "    }\n",
       "\n",
       "    .dataframe thead th {\n",
       "        text-align: right;\n",
       "    }\n",
       "</style>\n",
       "<table border=\"1\" class=\"dataframe\">\n",
       "  <thead>\n",
       "    <tr style=\"text-align: right;\">\n",
       "      <th></th>\n",
       "      <th>genotype</th>\n",
       "      <th>sample_id</th>\n",
       "    </tr>\n",
       "  </thead>\n",
       "  <tbody>\n",
       "    <tr>\n",
       "      <th>0</th>\n",
       "      <td>SPxPL</td>\n",
       "      <td>01_0706_01</td>\n",
       "    </tr>\n",
       "    <tr>\n",
       "      <th>1</th>\n",
       "      <td>SPxPL</td>\n",
       "      <td>01_0607_01</td>\n",
       "    </tr>\n",
       "    <tr>\n",
       "      <th>2</th>\n",
       "      <td>SPxPL</td>\n",
       "      <td>02_0702_01</td>\n",
       "    </tr>\n",
       "    <tr>\n",
       "      <th>3</th>\n",
       "      <td>SPxPL</td>\n",
       "      <td>02_0207_01</td>\n",
       "    </tr>\n",
       "    <tr>\n",
       "      <th>4</th>\n",
       "      <td>SPxPL</td>\n",
       "      <td>03_0705_01</td>\n",
       "    </tr>\n",
       "  </tbody>\n",
       "</table>\n",
       "</div>"
      ],
      "text/plain": [
       "  genotype   sample_id\n",
       "0    SPxPL  01_0706_01\n",
       "1    SPxPL  01_0607_01\n",
       "2    SPxPL  02_0702_01\n",
       "3    SPxPL  02_0207_01\n",
       "4    SPxPL  03_0705_01"
      ]
     },
     "execution_count": 28,
     "metadata": {},
     "output_type": "execute_result"
    }
   ],
   "source": [
    "mylabel.head()"
   ]
  },
  {
   "cell_type": "code",
   "execution_count": 73,
   "id": "5dadc451",
   "metadata": {},
   "outputs": [],
   "source": [
    "label_writer = LabelWriter('mytemplate.html',\n",
    "                          default_stylesheets=('mystyle1.css',))\n"
   ]
  },
  {
   "cell_type": "code",
   "execution_count": 60,
   "id": "1a92247a",
   "metadata": {},
   "outputs": [],
   "source": [
    "records = mylabel.to_dict('records')"
   ]
  },
  {
   "cell_type": "code",
   "execution_count": 74,
   "id": "bc710777",
   "metadata": {},
   "outputs": [],
   "source": [
    "label_writer.write_labels(records, target = 'mytest_label1.pdf')"
   ]
  },
  {
   "cell_type": "code",
   "execution_count": null,
   "id": "373b0d39",
   "metadata": {},
   "outputs": [],
   "source": []
  }
 ],
 "metadata": {
  "kernelspec": {
   "display_name": "Python 3 (ipykernel)",
   "language": "python",
   "name": "python3"
  },
  "language_info": {
   "codemirror_mode": {
    "name": "ipython",
    "version": 3
   },
   "file_extension": ".py",
   "mimetype": "text/x-python",
   "name": "python",
   "nbconvert_exporter": "python",
   "pygments_lexer": "ipython3",
   "version": "3.10.6"
  }
 },
 "nbformat": 4,
 "nbformat_minor": 5
}
